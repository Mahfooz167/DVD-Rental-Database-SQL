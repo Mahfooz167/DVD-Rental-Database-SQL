{
  "nbformat": 4,
  "nbformat_minor": 0,
  "metadata": {
    "colab": {
      "provenance": [],
      "include_colab_link": true
    },
    "kernelspec": {
      "name": "python3",
      "display_name": "Python 3"
    }
  },
  "cells": [
    {
      "cell_type": "markdown",
      "metadata": {
        "id": "view-in-github",
        "colab_type": "text"
      },
      "source": [
        "<a href=\"https://colab.research.google.com/github/Mahfooz167/DVD-Rental-Database-SQL/blob/main/SQL_Fundamentals_II_Assignment.ipynb\" target=\"_parent\"><img src=\"https://colab.research.google.com/assets/colab-badge.svg\" alt=\"Open In Colab\"/></a>"
      ]
    },
    {
      "cell_type": "markdown",
      "metadata": {
        "id": "LSx52toYvkE0"
      },
      "source": [
        "# <b> Question 1 : Return the customer IDs of customers who have spent at least $110 with the staff member who has an ID of 2.\n"
      ]
    },
    {
      "cell_type": "markdown",
      "source": [
        "SELECT customer_id, SUM (amount) FROM payment\n",
        "WHERE staff_id=2\n",
        "GROUP BY customer_id,staff_id\n",
        "HAVING SUM (amount) >= 110\n",
        "ORDER BY customer_id\n",
        "\n",
        "Data Output\n",
        "\"customer_id\"\t\"sum\"\n",
        "148\t110.78\n",
        "187\t110.81"
      ],
      "metadata": {
        "id": "6_81SQCDLDSd"
      }
    },
    {
      "cell_type": "markdown",
      "metadata": {
        "id": "grhpLeadvkHP"
      },
      "source": [
        "# <b> Question 2 :  How many films begin with the letter J?\n"
      ]
    },
    {
      "cell_type": "markdown",
      "source": [
        "SELECT COUNT (title)\n",
        "FROM film\n",
        "WHERE title LIKE 'J%'\n",
        "\n",
        "Data Output\n",
        "\"count\"\n",
        "20"
      ],
      "metadata": {
        "id": "Xge_Si6fLJHF"
      }
    },
    {
      "cell_type": "markdown",
      "metadata": {
        "id": "7ADgnW_VvkJg"
      },
      "source": [
        "# <b> Question 3 : What customer has the highest customer ID number whose name starts with an 'E' and has an address ID lower than 500?"
      ]
    },
    {
      "cell_type": "markdown",
      "source": [
        "SELECT customer_id FROM customer\n",
        "WHERE first_name ILIKE 'E%'\n",
        "GROUP BY customer_id\n",
        "HAVING address_id < 500\n",
        "ORDER BY customer_id DESC\n",
        "\n",
        "Data Output\n",
        "\"customer_id\"\n",
        "434\n",
        "432\n",
        "396\n",
        "384\n",
        "378\n",
        "331\n",
        "317\n",
        "298\n",
        "210\n",
        "205\n",
        "198\n",
        "169\n",
        "160\n",
        "148\n",
        "140\n",
        "134\n",
        "132\n",
        "127\n",
        "126\n",
        "125\n",
        "117\n",
        "109\n",
        "99\n",
        "57\n",
        "5\n"
      ],
      "metadata": {
        "id": "mz9eMfd5LQdD"
      }
    }
  ]
}